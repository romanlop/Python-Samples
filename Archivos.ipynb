{
 "cells": [
  {
   "cell_type": "code",
   "execution_count": 47,
   "metadata": {},
   "outputs": [
    {
     "name": "stdout",
     "output_type": "stream",
     "text": [
      "ALO PRESIDENTE\n",
      "\n",
      "Me cago en diogenes\n"
     ]
    }
   ],
   "source": [
    "#gestion de ficheros\n",
    "url=\"/Users/Ruman/Desktop/prueba.txt\"\n",
    "fichero=open(url)\n",
    "for linea in fichero:\n",
    "    print(linea)\n",
    "    \n",
    "    \n",
    "\n"
   ]
  },
  {
   "cell_type": "code",
   "execution_count": 43,
   "metadata": {},
   "outputs": [
    {
     "name": "stdout",
     "output_type": "stream",
     "text": [
      "['[\\'\"Lorem ipsum dolor sit amet, co\\n', \"nsectetur adipiscing elit, \\\\n', 'se\\n\", 'd do eiusmod tempor incididunt ut labor\\n', \"e et dolore magna \\\\n', 'aliqua. Ut enim ad mi\\n\", 'nim veniam, quis nostrud exercitation \\n', \"\\\\n', 'ullamco laboris nisi ut aliquip ex ea commodo consequat. \\\\n', 'Duis aute irure dolo\\n\", \"r in reprehenderit in voluptate velit \\\\n', 'esse cillum dolore eu fugiat nulla pariatur. Excepteur \\\\n', 'sint occaecat cupidatat non proident, sunt in culpa qui \\\\n', 'off\\n\", 'icia deserunt mollit anim id est laborum.\"\\']']\n"
     ]
    }
   ],
   "source": [
    "url=\"/Users/Ruman/Desktop/prueba.txt\"\n",
    "fichero=open(url)\n",
    "lineas=fichero.readlines()\n",
    "print (lineas)"
   ]
  },
  {
   "cell_type": "code",
   "execution_count": 44,
   "metadata": {},
   "outputs": [
    {
     "name": "stdout",
     "output_type": "stream",
     "text": [
      "['[\\'\"Lorem ipsum dolor sit amet, co\\n', \"nsectetur adipiscing elit, \\\\n', 'se\\n\", 'd do eiusmod tempor incididunt ut labor\\n', \"e et dolore magna \\\\n', 'aliqua. Ut enim ad mi\\n\", 'nim veniam, quis nostrud exercitation \\n', \"\\\\n', 'ullamco laboris nisi ut aliquip ex ea commodo consequat. \\\\n', 'Duis aute irure dolo\\n\", \"r in reprehenderit in voluptate velit \\\\n', 'esse cillum dolore eu fugiat nulla pariatur. Excepteur \\\\n', 'sint occaecat cupidatat non proident, sunt in culpa qui \\\\n', 'off\\n\", 'icia deserunt mollit anim id est laborum.\"\\']']\n",
      "['[\\'\"Lorem ipsum dolor sit amet, co\\n', \"nsectetur adipiscing elit, \\\\n', 'se\\n\", 'd do eiusmod tempor incididunt ut labor\\n', \"e et dolore magna \\\\n', 'aliqua. Ut enim ad mi\\n\", 'nim veniam, quis nostrud exercitation \\n', \"\\\\n', 'ullamco laboris nisi ut aliquip ex ea commodo consequat. \\\\n', 'Duis aute irure dolo\\n\", \"r in reprehenderit in voluptate velit \\\\n', 'esse cillum dolore eu fugiat nulla pariatur. Excepteur \\\\n', 'sint occaecat cupidatat non proident, sunt in culpa qui \\\\n', 'off\\n\", 'icia deserunt mollit anim id est laborum.\"\\']']\n",
      "['[\\'\"Lorem ipsum dolor sit amet, co\\n', \"nsectetur adipiscing elit, \\\\n', 'se\\n\", 'd do eiusmod tempor incididunt ut labor\\n', \"e et dolore magna \\\\n', 'aliqua. Ut enim ad mi\\n\", 'nim veniam, quis nostrud exercitation \\n', \"\\\\n', 'ullamco laboris nisi ut aliquip ex ea commodo consequat. \\\\n', 'Duis aute irure dolo\\n\", \"r in reprehenderit in voluptate velit \\\\n', 'esse cillum dolore eu fugiat nulla pariatur. Excepteur \\\\n', 'sint occaecat cupidatat non proident, sunt in culpa qui \\\\n', 'off\\n\", 'icia deserunt mollit anim id est laborum.\"\\']']\n",
      "['[\\'\"Lorem ipsum dolor sit amet, co\\n', \"nsectetur adipiscing elit, \\\\n', 'se\\n\", 'd do eiusmod tempor incididunt ut labor\\n', \"e et dolore magna \\\\n', 'aliqua. Ut enim ad mi\\n\", 'nim veniam, quis nostrud exercitation \\n', \"\\\\n', 'ullamco laboris nisi ut aliquip ex ea commodo consequat. \\\\n', 'Duis aute irure dolo\\n\", \"r in reprehenderit in voluptate velit \\\\n', 'esse cillum dolore eu fugiat nulla pariatur. Excepteur \\\\n', 'sint occaecat cupidatat non proident, sunt in culpa qui \\\\n', 'off\\n\", 'icia deserunt mollit anim id est laborum.\"\\']']\n",
      "['[\\'\"Lorem ipsum dolor sit amet, co\\n', \"nsectetur adipiscing elit, \\\\n', 'se\\n\", 'd do eiusmod tempor incididunt ut labor\\n', \"e et dolore magna \\\\n', 'aliqua. Ut enim ad mi\\n\", 'nim veniam, quis nostrud exercitation \\n', \"\\\\n', 'ullamco laboris nisi ut aliquip ex ea commodo consequat. \\\\n', 'Duis aute irure dolo\\n\", \"r in reprehenderit in voluptate velit \\\\n', 'esse cillum dolore eu fugiat nulla pariatur. Excepteur \\\\n', 'sint occaecat cupidatat non proident, sunt in culpa qui \\\\n', 'off\\n\", 'icia deserunt mollit anim id est laborum.\"\\']']\n",
      "['[\\'\"Lorem ipsum dolor sit amet, co\\n', \"nsectetur adipiscing elit, \\\\n', 'se\\n\", 'd do eiusmod tempor incididunt ut labor\\n', \"e et dolore magna \\\\n', 'aliqua. Ut enim ad mi\\n\", 'nim veniam, quis nostrud exercitation \\n', \"\\\\n', 'ullamco laboris nisi ut aliquip ex ea commodo consequat. \\\\n', 'Duis aute irure dolo\\n\", \"r in reprehenderit in voluptate velit \\\\n', 'esse cillum dolore eu fugiat nulla pariatur. Excepteur \\\\n', 'sint occaecat cupidatat non proident, sunt in culpa qui \\\\n', 'off\\n\", 'icia deserunt mollit anim id est laborum.\"\\']']\n",
      "['[\\'\"Lorem ipsum dolor sit amet, co\\n', \"nsectetur adipiscing elit, \\\\n', 'se\\n\", 'd do eiusmod tempor incididunt ut labor\\n', \"e et dolore magna \\\\n', 'aliqua. Ut enim ad mi\\n\", 'nim veniam, quis nostrud exercitation \\n', \"\\\\n', 'ullamco laboris nisi ut aliquip ex ea commodo consequat. \\\\n', 'Duis aute irure dolo\\n\", \"r in reprehenderit in voluptate velit \\\\n', 'esse cillum dolore eu fugiat nulla pariatur. Excepteur \\\\n', 'sint occaecat cupidatat non proident, sunt in culpa qui \\\\n', 'off\\n\", 'icia deserunt mollit anim id est laborum.\"\\']']\n",
      "['[\\'\"Lorem ipsum dolor sit amet, co\\n', \"nsectetur adipiscing elit, \\\\n', 'se\\n\", 'd do eiusmod tempor incididunt ut labor\\n', \"e et dolore magna \\\\n', 'aliqua. Ut enim ad mi\\n\", 'nim veniam, quis nostrud exercitation \\n', \"\\\\n', 'ullamco laboris nisi ut aliquip ex ea commodo consequat. \\\\n', 'Duis aute irure dolo\\n\", \"r in reprehenderit in voluptate velit \\\\n', 'esse cillum dolore eu fugiat nulla pariatur. Excepteur \\\\n', 'sint occaecat cupidatat non proident, sunt in culpa qui \\\\n', 'off\\n\", 'icia deserunt mollit anim id est laborum.\"\\']']\n"
     ]
    }
   ],
   "source": [
    "url=\"/Users/Ruman/Desktop/prueba.txt\"\n",
    "fichero=open(url,'w')\n",
    "for i, line in enumerate(lineas):\n",
    "    if i%2 ==0:\n",
    "        fichero.write(str(i)+ ' ' + line)\n",
    "    else:\n",
    "        pass\n",
    "    print (lineas)    \n",
    "\n"
   ]
  },
  {
   "cell_type": "code",
   "execution_count": 46,
   "metadata": {},
   "outputs": [
    {
     "data": {
      "text/plain": [
       "18"
      ]
     },
     "execution_count": 46,
     "metadata": {},
     "output_type": "execute_result"
    }
   ],
   "source": [
    "url=\"/Users/Ruman/Desktop/prueba.txt\"\n",
    "fichero=open(url,'a')\n",
    "fichero.write('\\nALO PRESIDENTE!!!')\n",
    "    "
   ]
  },
  {
   "cell_type": "code",
   "execution_count": null,
   "metadata": {},
   "outputs": [],
   "source": []
  }
 ],
 "metadata": {
  "kernelspec": {
   "display_name": "Python 3",
   "language": "python",
   "name": "python3"
  },
  "language_info": {
   "codemirror_mode": {
    "name": "ipython",
    "version": 3
   },
   "file_extension": ".py",
   "mimetype": "text/x-python",
   "name": "python",
   "nbconvert_exporter": "python",
   "pygments_lexer": "ipython3",
   "version": "3.7.0"
  }
 },
 "nbformat": 4,
 "nbformat_minor": 2
}

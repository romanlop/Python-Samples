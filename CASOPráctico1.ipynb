{
 "cells": [
  {
   "cell_type": "code",
   "execution_count": 5,
   "metadata": {
    "scrolled": true
   },
   "outputs": [
    {
     "name": "stdout",
     "output_type": "stream",
     "text": [
      "['A', 'B', 'C', 'D', 'E', 'F', 'G', 'H', 'I', 'J', 'K', 'L', 'M', 'N', 'O', 'P', 'Q', 'R', 'S', 'T', 'U', 'V', 'W', 'X', 'Y', 'Z']\n",
      "Introduce el texto a cifrar:\n",
      "Cago en DIos\n",
      "Desplazamiento en letras:\n",
      "10\n",
      "Desplazamiento en palabras:\n",
      "10\n",
      "['C', 'a', 'g', 'o', ' ', 'e', 'n', ' ', 'D', 'I', 'o', 's']\n",
      "['Mkqy', 'ox', 'NSyc']\n"
     ]
    },
    {
     "ename": "TypeError",
     "evalue": "'int' object is not callable",
     "output_type": "error",
     "traceback": [
      "\u001b[0;31m---------------------------------------------------------------------------\u001b[0m",
      "\u001b[0;31mTypeError\u001b[0m                                 Traceback (most recent call last)",
      "\u001b[0;32m<ipython-input-5-b0bedbdf55e8>\u001b[0m in \u001b[0;36m<module>\u001b[0;34m()\u001b[0m\n\u001b[1;32m     30\u001b[0m \u001b[0mprint\u001b[0m\u001b[0;34m(\u001b[0m\u001b[0mlist_palabras\u001b[0m\u001b[0;34m)\u001b[0m\u001b[0;34m\u001b[0m\u001b[0m\n\u001b[1;32m     31\u001b[0m \u001b[0;34m\u001b[0m\u001b[0m\n\u001b[0;32m---> 32\u001b[0;31m \u001b[0;32mfor\u001b[0m \u001b[0mi\u001b[0m \u001b[0;32min\u001b[0m \u001b[0mrange\u001b[0m\u001b[0;34m(\u001b[0m\u001b[0;36m0\u001b[0m\u001b[0;34m,\u001b[0m\u001b[0mlen\u001b[0m\u001b[0;34m(\u001b[0m\u001b[0mlist_palabras\u001b[0m\u001b[0;34m)\u001b[0m\u001b[0;34m)\u001b[0m\u001b[0;34m:\u001b[0m\u001b[0;34m\u001b[0m\u001b[0m\n\u001b[0m\u001b[1;32m     33\u001b[0m     \u001b[0mresultado\u001b[0m\u001b[0;34m[\u001b[0m\u001b[0md_pal\u001b[0m\u001b[0;34m%\u001b[0m\u001b[0mnum_pal\u001b[0m\u001b[0;34m]\u001b[0m\u001b[0;34m=\u001b[0m\u001b[0mpalabra\u001b[0m\u001b[0;34m\u001b[0m\u001b[0m\n\u001b[1;32m     34\u001b[0m     \u001b[0mi\u001b[0m\u001b[0;34m=\u001b[0m\u001b[0mi\u001b[0m\u001b[0;34m+\u001b[0m\u001b[0;36m1\u001b[0m\u001b[0;34m\u001b[0m\u001b[0m\n",
      "\u001b[0;31mTypeError\u001b[0m: 'int' object is not callable"
     ]
    }
   ],
   "source": [
    "import string\n",
    "list_alph_upper=list(string.ascii_uppercase)\n",
    "print (list_alph_upper)\n",
    "list_alph_lower=list(string.ascii_lowercase)\n",
    "len=26;\n",
    "\n",
    "texto = input(\"Introduce el texto a cifrar:\\n\")\n",
    "d_let = int(input(\"Desplazamiento en letras:\\n\"))\n",
    "d_pal = int(input(\"Desplazamiento en palabras:\\n\"))\n",
    "\n",
    "list_texto=list(texto)\n",
    "print(list_texto)\n",
    "\n",
    "i=0;\n",
    "for char in list_texto:\n",
    "    if char.isupper():\n",
    "        correspondencia = list_alph_upper.index(char)\n",
    "        list_texto[i]=list_alph_upper[int(correspondencia+d_let)%len] \n",
    "    elif char.islower():    \n",
    "        correspondencia = list_alph_lower.index(char)\n",
    "        list_texto[i]=list_alph_lower[int(correspondencia+d_let)%len] \n",
    "    else:\n",
    "        pass\n",
    "    i=i+1;   \n",
    "    \n",
    "\n",
    "texto=\"\".join(list_texto)\n",
    "\n",
    "list_palabras=texto.split()\n",
    "print(list_palabras)\n",
    "\n",
    "for i in range(0,len(list_palabras)):\n",
    "    resultado[d_pal%num_pal]=palabra\n",
    "    i=i+1\n",
    "    print(resultado)\n",
    "\n",
    "\n",
    "\n",
    "#Hacerlo con ficheros\n",
    "#Me cago en ningun Dios\n"
   ]
  },
  {
   "cell_type": "code",
   "execution_count": 6,
   "metadata": {},
   "outputs": [
    {
     "name": "stdout",
     "output_type": "stream",
     "text": [
      "Texo a cifrar: asd asd\n",
      "Desplazamiento letra: 2\n",
      "Desplazamiento palabra: 2\n"
     ]
    },
    {
     "ename": "TypeError",
     "evalue": "can only concatenate str (not \"list\") to str",
     "output_type": "error",
     "traceback": [
      "\u001b[0;31m---------------------------------------------------------------------------\u001b[0m",
      "\u001b[0;31mTypeError\u001b[0m                                 Traceback (most recent call last)",
      "\u001b[0;32m<ipython-input-6-32dae5377b2f>\u001b[0m in \u001b[0;36m<module>\u001b[0;34m()\u001b[0m\n\u001b[1;32m     59\u001b[0m    \u001b[0;32mif\u001b[0m \u001b[0mdesp\u001b[0m\u001b[0;34m.\u001b[0m\u001b[0misdigit\u001b[0m\u001b[0;34m(\u001b[0m\u001b[0;34m)\u001b[0m \u001b[0;32mand\u001b[0m \u001b[0mdesp2\u001b[0m\u001b[0;34m.\u001b[0m\u001b[0misdigit\u001b[0m\u001b[0;34m(\u001b[0m\u001b[0;34m)\u001b[0m\u001b[0;34m:\u001b[0m\u001b[0;34m\u001b[0m\u001b[0m\n\u001b[1;32m     60\u001b[0m \u001b[0;34m\u001b[0m\u001b[0m\n\u001b[0;32m---> 61\u001b[0;31m        \u001b[0mcifrar\u001b[0m\u001b[0;34m(\u001b[0m\u001b[0mtexto\u001b[0m\u001b[0;34m,\u001b[0m\u001b[0mdesp\u001b[0m\u001b[0;34m,\u001b[0m\u001b[0mdesp2\u001b[0m\u001b[0;34m)\u001b[0m\u001b[0;34m\u001b[0m\u001b[0m\n\u001b[0m\u001b[1;32m     62\u001b[0m \u001b[0;34m\u001b[0m\u001b[0m\n\u001b[1;32m     63\u001b[0m    \u001b[0;32melse\u001b[0m\u001b[0;34m:\u001b[0m\u001b[0;34m\u001b[0m\u001b[0m\n",
      "\u001b[0;32m<ipython-input-6-32dae5377b2f>\u001b[0m in \u001b[0;36mcifrar\u001b[0;34m(texto, desp, desp2)\u001b[0m\n\u001b[1;32m     10\u001b[0m \u001b[0;34m\u001b[0m\u001b[0m\n\u001b[1;32m     11\u001b[0m     \u001b[0mindices\u001b[0m \u001b[0;34m=\u001b[0m \u001b[0;34m[\u001b[0m\u001b[0;34m]\u001b[0m\u001b[0;34m\u001b[0m\u001b[0m\n\u001b[0;32m---> 12\u001b[0;31m     \u001b[0mprint\u001b[0m \u001b[0;34m(\u001b[0m\u001b[0;34m\"palabras:\"\u001b[0m \u001b[0;34m+\u001b[0m \u001b[0mpalabras\u001b[0m\u001b[0;34m)\u001b[0m\u001b[0;34m\u001b[0m\u001b[0m\n\u001b[0m\u001b[1;32m     13\u001b[0m     \u001b[0;32mfor\u001b[0m \u001b[0mi\u001b[0m \u001b[0;32min\u001b[0m \u001b[0mrange\u001b[0m\u001b[0;34m(\u001b[0m\u001b[0;36m0\u001b[0m\u001b[0;34m,\u001b[0m\u001b[0mlen\u001b[0m\u001b[0;34m(\u001b[0m\u001b[0mpalabras\u001b[0m\u001b[0;34m)\u001b[0m\u001b[0;34m)\u001b[0m\u001b[0;34m:\u001b[0m\u001b[0;34m\u001b[0m\u001b[0m\n\u001b[1;32m     14\u001b[0m \u001b[0;34m\u001b[0m\u001b[0m\n",
      "\u001b[0;31mTypeError\u001b[0m: can only concatenate str (not \"list\") to str"
     ]
    }
   ],
   "source": [
    "def cifrar(texto,desp,desp2):\n",
    "\n",
    "    muestra = \"\"\n",
    "\n",
    "    texto = convertir(texto,desp2)\n",
    "\n",
    "    palabras = texto.split(' ')\n",
    "\n",
    "    copia = palabras[:]\n",
    "\n",
    "    indices = []\n",
    "    print (palabras)\n",
    "    for i in range(0,len(palabras)):\n",
    "\n",
    "        indices.append((i + int(desp)) % len(palabras))\n",
    "\n",
    "        copia[indices[i]] = palabras[i]\n",
    "\n",
    "    for j in range(0,len(copia)):\n",
    "\n",
    "        muestra += \"\".join(copia[j])+\" \"\n",
    "\n",
    "    print (\"\\nTexto cifrado: \"+ muestra)\n",
    "\n",
    "   \n",
    "\n",
    "def convertir(text,desp2):\n",
    "\n",
    "    resul = \"\"\n",
    "\n",
    "    for car in text:\n",
    "\n",
    "        if car.isalpha():\n",
    "\n",
    "           if car.islower():\n",
    "\n",
    "               resul += chr((ord(car) - 97 + int(desp2)) % 26 + 97)\n",
    "\n",
    "           if car.isupper():\n",
    "\n",
    "               resul += chr((ord(car) - 65 + int(desp2)) % 26 + 65)     \n",
    "\n",
    "        else:\n",
    "\n",
    "            resul += car\n",
    "\n",
    "    return resul   \n",
    "\n",
    "   \n",
    "\n",
    "if __name__ == \"__main__\":\n",
    "\n",
    "   texto = input(\"Texo a cifrar: \")\n",
    "\n",
    "   desp2 = input(\"Desplazamiento letra: \")\n",
    "\n",
    "   desp = input(\"Desplazamiento palabra: \") \n",
    "\n",
    "   if desp.isdigit() and desp2.isdigit():\n",
    "\n",
    "       cifrar(texto,desp,desp2)\n",
    "\n",
    "   else:\n",
    "\n",
    "       print (\"El desplazamiento ha de ser un digito\")\n",
    "\n",
    " "
   ]
  },
  {
   "cell_type": "code",
   "execution_count": null,
   "metadata": {},
   "outputs": [],
   "source": [
    "len(list_palabras)\n",
    "\n",
    "resultado=list()\n",
    "\n",
    "i=0;\n",
    "for palabra in list_palabras:\n",
    "    resultado[d_pal%num_pal]=palabra\n",
    "    i=i+1\n",
    "    print(resultado)"
   ]
  },
  {
   "cell_type": "code",
   "execution_count": 2,
   "metadata": {},
   "outputs": [
    {
     "ename": "TypeError",
     "evalue": "'int' object is not callable",
     "output_type": "error",
     "traceback": [
      "\u001b[0;31m---------------------------------------------------------------------------\u001b[0m",
      "\u001b[0;31mTypeError\u001b[0m                                 Traceback (most recent call last)",
      "\u001b[0;32m<ipython-input-2-836d687ee8a4>\u001b[0m in \u001b[0;36m<module>\u001b[0;34m()\u001b[0m\n\u001b[1;32m      1\u001b[0m \u001b[0mlista\u001b[0m\u001b[0;34m=\u001b[0m\u001b[0;34m[\u001b[0m\u001b[0;36m1\u001b[0m\u001b[0;34m,\u001b[0m\u001b[0;36m2\u001b[0m\u001b[0;34m,\u001b[0m\u001b[0;36m3\u001b[0m\u001b[0;34m,\u001b[0m\u001b[0;36m4\u001b[0m\u001b[0;34m]\u001b[0m\u001b[0;34m\u001b[0m\u001b[0m\n\u001b[0;32m----> 2\u001b[0;31m \u001b[0mlen\u001b[0m\u001b[0;34m(\u001b[0m\u001b[0mlista\u001b[0m\u001b[0;34m)\u001b[0m\u001b[0;34m\u001b[0m\u001b[0m\n\u001b[0m",
      "\u001b[0;31mTypeError\u001b[0m: 'int' object is not callable"
     ]
    }
   ],
   "source": [
    "\n"
   ]
  },
  {
   "cell_type": "code",
   "execution_count": null,
   "metadata": {},
   "outputs": [],
   "source": []
  }
 ],
 "metadata": {
  "kernelspec": {
   "display_name": "Python 3",
   "language": "python",
   "name": "python3"
  },
  "language_info": {
   "codemirror_mode": {
    "name": "ipython",
    "version": 3
   },
   "file_extension": ".py",
   "mimetype": "text/x-python",
   "name": "python",
   "nbconvert_exporter": "python",
   "pygments_lexer": "ipython3",
   "version": "3.7.0"
  }
 },
 "nbformat": 4,
 "nbformat_minor": 2
}

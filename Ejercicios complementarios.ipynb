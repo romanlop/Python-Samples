{
 "cells": [
  {
   "cell_type": "markdown",
   "metadata": {},
   "source": [
    "# Ejercicio 1\n",
    "    Función que retorne el mayor de dos números o 0 si son iguales"
   ]
  },
  {
   "cell_type": "code",
   "execution_count": 1,
   "metadata": {},
   "outputs": [],
   "source": [
    "def retorne(a,b):\n",
    "    if a > b:\n",
    "        return a\n",
    "    elif a < b:\n",
    "        return b\n",
    "    else:\n",
    "        return 0        "
   ]
  },
  {
   "cell_type": "code",
   "execution_count": 2,
   "metadata": {},
   "outputs": [
    {
     "data": {
      "text/plain": [
       "4"
      ]
     },
     "execution_count": 2,
     "metadata": {},
     "output_type": "execute_result"
    }
   ],
   "source": [
    "retorne(4,3)"
   ]
  },
  {
   "cell_type": "markdown",
   "metadata": {},
   "source": [
    "# Ejercicio 2\n",
    "    Función que determine si una persona es mayor de edad o no"
   ]
  },
  {
   "cell_type": "code",
   "execution_count": 3,
   "metadata": {},
   "outputs": [],
   "source": [
    "def Es_mayor_de_edad():\n",
    "    mayordeedad = 18\n",
    "    edad = int(input(\"Introduce tu edad: \\n\"))\n",
    "    if (edad >= mayordeedad):\n",
    "        return True\n",
    "    else:\n",
    "        return False  "
   ]
  },
  {
   "cell_type": "code",
   "execution_count": 4,
   "metadata": {},
   "outputs": [
    {
     "name": "stdout",
     "output_type": "stream",
     "text": [
      "Introduce tu edad: \n",
      "34\n"
     ]
    },
    {
     "data": {
      "text/plain": [
       "True"
      ]
     },
     "execution_count": 4,
     "metadata": {},
     "output_type": "execute_result"
    }
   ],
   "source": [
    "Es_mayor_de_edad()"
   ]
  },
  {
   "cell_type": "markdown",
   "metadata": {},
   "source": [
    "# Ejercicio 3\n",
    "    Programar una función que determine si una empresa es microempresa o no (retorno booleano –True o False–). Se dice que es microempresa si tiene menos de 50 empleados, factura menos de 30 milones de euros y tiene un balance igual o inferior a los 5 millones de euros."
   ]
  },
  {
   "cell_type": "code",
   "execution_count": 5,
   "metadata": {},
   "outputs": [],
   "source": [
    "def Es_microempresa():\n",
    "    #Rarámetros\n",
    "    qtyEmpleados = 50\n",
    "    totalFacturacion = 30\n",
    "    totalBalance = 5\n",
    "    \n",
    "    empleados = int(input(\"Intoduzca cantidad de empleados: \\n\"))\n",
    "    facturacion = int(input(\"Introduzca monto anual de facturacion en millones de Euros: \\n\"))\n",
    "    balance = int(input(\"Introduzca el valor del balance en millones de Euros: \\n\"))\n",
    "    \n",
    "    if (empleados < qtyEmpleados) | (facturacion < totalFacturacion) | (balance < totalBalance):\n",
    "        return False\n",
    "    else: \n",
    "        return True\n",
    "    "
   ]
  },
  {
   "cell_type": "code",
   "execution_count": 6,
   "metadata": {},
   "outputs": [
    {
     "name": "stdout",
     "output_type": "stream",
     "text": [
      "Intoduzca cantidad de empleados: \n",
      "51\n",
      "Introduzca monto anual de facturacion en millones de Euros: \n",
      "32\n",
      "Introduzca el valor del balance en millones de Euros: \n",
      "8\n"
     ]
    },
    {
     "data": {
      "text/plain": [
       "True"
      ]
     },
     "execution_count": 6,
     "metadata": {},
     "output_type": "execute_result"
    }
   ],
   "source": [
    "Es_microempresa()"
   ]
  },
  {
   "cell_type": "markdown",
   "metadata": {},
   "source": [
    "# Ejercicio 4\n",
    "    Calcular el impuesto que debe pagar un contribuyente a partir de sus ingresos anuales y el número de hijos. El impuesto a pagar es un tercio del ingreso imponible, siendo este último igual a los ingresos totales menos una deducción personal de 600€ y otra deducción de 60€ por hijo."
   ]
  },
  {
   "cell_type": "code",
   "execution_count": 7,
   "metadata": {},
   "outputs": [
    {
     "name": "stdout",
     "output_type": "stream",
     "text": [
      "Introduzca ingresos anuales: \n",
      "800\n",
      "Introduzca el número de hijos: \n",
      "1\n",
      "Impuesto total a pagar por el contribuyente: \n"
     ]
    },
    {
     "data": {
      "text/plain": [
       "46.67"
      ]
     },
     "execution_count": 7,
     "metadata": {},
     "output_type": "execute_result"
    }
   ],
   "source": [
    "ingreso = int(input(\"Introduzca ingresos anuales: \\n\"))\n",
    "nhijos = int(input(\"Introduzca el número de hijos: \\n\"))\n",
    "\n",
    "print(\"Impuesto total a pagar por el contribuyente: \")\n",
    "\n",
    "def calculoImpuesto(ingreso, nhijos):\n",
    " \n",
    "    deduccPersonal = 600\n",
    "    deduccxHijo = 60\n",
    "              \n",
    "    #Calcular impuesto\n",
    "    impuesto = round((ingreso-deduccPersonal-(deduccxHijo*nhijos))/3,2)\n",
    "    return impuesto\n",
    "\n",
    "calculoImpuesto(ingreso, nhijos)"
   ]
  },
  {
   "cell_type": "markdown",
   "metadata": {},
   "source": [
    "# Ejercicio 5\n",
    "    La temperatura expresada en grados centígrados TC, se puede convertir a grados Fahrenheit (TF) mediante la siguiente fórmula: TF = 9*TC/5http://localhost:8889/notebooks/Descargas/Ejercicios%20complementarios.ipynb# + 32. Programa una función para hacer esta transformación que reciba como argumento la temperatura en grados centígrados y retorne su equivalente en Farenheit."
   ]
  },
  {
   "cell_type": "code",
   "execution_count": 8,
   "metadata": {},
   "outputs": [
    {
     "name": "stdout",
     "output_type": "stream",
     "text": [
      "Convertir Celsius To Fahrenheit Introduzca Temperatura: \n",
      "32\n"
     ]
    },
    {
     "data": {
      "text/plain": [
       "89.6"
      ]
     },
     "execution_count": 8,
     "metadata": {},
     "output_type": "execute_result"
    }
   ],
   "source": [
    "temp = float(input(\"Convertir Celsius To Fahrenheit Introduzca Temperatura: \\n\"))\n",
    "\n",
    "def convertir_Celsius_To_Fahrenheit():\n",
    "    TF = (9*temp)/5+32\n",
    "    return(TF)\n",
    "\n",
    "convertir_Celsius_To_Fahrenheit()"
   ]
  },
  {
   "cell_type": "markdown",
   "metadata": {
    "collapsed": true
   },
   "source": [
    "# Ejercicio 6\n",
    "    Escribir una función Python que a partir de una cierta cantidad en euros y del tipo de cambio del día, retorne el equivalente en libras teniendo en cuenta que la casa de cambio retiene una comisión del 2% sobre el total de la operación"
   ]
  },
  {
   "cell_type": "code",
   "execution_count": 9,
   "metadata": {},
   "outputs": [
    {
     "name": "stdout",
     "output_type": "stream",
     "text": [
      "Introduzca la cantidad de € que desea cambiar: \n",
      "400\n",
      "Introduzca tasa de cambio al dia: \n",
      ".82\n",
      "El cambio a libras por  400.0 es: \n"
     ]
    },
    {
     "data": {
      "text/plain": [
       "321.44"
      ]
     },
     "execution_count": 9,
     "metadata": {},
     "output_type": "execute_result"
    }
   ],
   "source": [
    "def cambioDivisa():\n",
    "    cantidad = float(input(\"Introduzca la cantidad de € que desea cambiar: \\n\"))\n",
    "    tcambioLibra = float(input(\"Introduzca tasa de cambio al dia: \\n\"))\n",
    "    \n",
    "    comision = 0.02\n",
    "    \n",
    "    #Valor en libras\n",
    "    libras = round((cantidad*tcambioLibra)-((cantidad*tcambioLibra)*comision),2)\n",
    "    print(\"El cambio a libras por \", cantidad, \"es: \")\n",
    "    return libras\n",
    "\n",
    "\n",
    "cambioDivisa()    "
   ]
  },
  {
   "cell_type": "code",
   "execution_count": 10,
   "metadata": {},
   "outputs": [
    {
     "name": "stdout",
     "output_type": "stream",
     "text": [
      "Introduzca la cantidad de € que desea cambiar: \n",
      "400\n",
      "El cambio a libras por  400.0 es: \n"
     ]
    },
    {
     "data": {
      "text/plain": [
       "321.44"
      ]
     },
     "execution_count": 10,
     "metadata": {},
     "output_type": "execute_result"
    }
   ],
   "source": [
    "def cambioDivisa():\n",
    "    cantidad = float(input(\"Introduzca la cantidad de € que desea cambiar: \\n\"))\n",
    "        \n",
    "    #Tasa de cambio predeterminada y comision\n",
    "    comision = 0.02\n",
    "    tcambioLibra = 0.82\n",
    "    \n",
    "    #Valor en libras\n",
    "    libras = round((cantidad*tcambioLibra)-((cantidad*tcambioLibra)*comision),2)\n",
    "    print(\"El cambio a libras por \", cantidad, \"es: \")\n",
    "    return libras\n",
    "\n",
    "\n",
    "cambioDivisa()   "
   ]
  },
  {
   "cell_type": "markdown",
   "metadata": {
    "collapsed": true
   },
   "source": [
    "# Ejercicio 7\n",
    "    Función que pinte una línea de asteriscos en pantalla"
   ]
  },
  {
   "cell_type": "code",
   "execution_count": 11,
   "metadata": {},
   "outputs": [],
   "source": [
    "def asteriscos():\n",
    "    print(\"**************************\")"
   ]
  },
  {
   "cell_type": "code",
   "execution_count": 12,
   "metadata": {},
   "outputs": [
    {
     "name": "stdout",
     "output_type": "stream",
     "text": [
      "**************************\n"
     ]
    }
   ],
   "source": [
    "asteriscos()"
   ]
  },
  {
   "cell_type": "markdown",
   "metadata": {},
   "source": [
    "# Ejercicio 8\n",
    "    Programe un módulo en Python que reutilizando la función anterior muestre nuestros datos en pantalla con formato banner tal y como se representa abajo:\n",
    "\\*\\*\\*\\*\\*\\*\\*\\*\\*\\*\\*\\*\\*\\*\\*\\*\\*\\*\\*\\*\\*\\*\\*\n",
    "Autor: Juan Manuel Moreno\n",
    "Email: juanmanuelmoreno@imfbigdata.com\n",
    "\\*\\*\\*\\*\\*\\*\\*\\*\\*\\*\\*\\*\\*\\*\\*\\*\\*\\*\\*\\*\\*\\*\\*"
   ]
  },
  {
   "cell_type": "code",
   "execution_count": 13,
   "metadata": {},
   "outputs": [
    {
     "name": "stdout",
     "output_type": "stream",
     "text": [
      "Introduzca nombre y apellidos: \n",
      "Bianca Carrizalez\n",
      "\n",
      "\n",
      "**************************\n",
      "Autor:  Bianca Carrizalez\n",
      "Email:  biancacarrizalez@imfbigdata.com\n",
      "**************************\n"
     ]
    }
   ],
   "source": [
    "def banner():\n",
    "   #Datos para email\n",
    "    nombre = input(\"Introduzca nombre y apellidos: \\n\")\n",
    "    email = str(nombre.replace(\" \", \"\").lower()+\"@imfbigdata.com\")\n",
    "    print(\"\\n\")\n",
    "    \n",
    "    #Banner\n",
    "    asteriscos()\n",
    "    print(\"Autor: \", nombre)\n",
    "    print(\"Email: \", email)\n",
    "    asteriscos()\n",
    "    \n",
    "banner()"
   ]
  },
  {
   "cell_type": "markdown",
   "metadata": {},
   "source": [
    "# Ejercicio 9\n",
    "    Utilizando funciones, calcule el perímetro y el área de un círculo cuyo radio es proporcionado por el usuario"
   ]
  },
  {
   "cell_type": "code",
   "execution_count": 14,
   "metadata": {},
   "outputs": [
    {
     "name": "stdout",
     "output_type": "stream",
     "text": [
      "Introduce el radio de la circunferencia: \n",
      "2\n",
      "Perímetro de la circunferencia:  12.5664\n",
      "Area del círculo:  12.5664\n"
     ]
    },
    {
     "data": {
      "text/plain": [
       "(None, None)"
      ]
     },
     "execution_count": 14,
     "metadata": {},
     "output_type": "execute_result"
    }
   ],
   "source": [
    "def circulo():\n",
    "    \n",
    "    radio = float(input(\"Introduce el radio de la circunferencia: \\n\"))\n",
    "    \n",
    "    # Datos\n",
    "    pi = 3.1416\n",
    "    perimetro = round(2*pi*radio,4)\n",
    "    area = round(pi*(radio**2),4)\n",
    "    \n",
    "    return (\n",
    "        (print(\"Perímetro de la circunferencia: \",perimetro)), \n",
    "        (print(\"Area del círculo: \", area))\n",
    "    )\n",
    "\n",
    "circulo()"
   ]
  },
  {
   "cell_type": "markdown",
   "metadata": {},
   "source": [
    "# Ejercicio 10\n",
    "    Escribamos un programa para solicitar al usuario el numero de horas y el precio por hora con vistas a calcular su salario bruto. Las horas que sobrepasen 40 se considerarán extra y pagadas a 1,5 veces el precio de la hora regular."
   ]
  },
  {
   "cell_type": "code",
   "execution_count": 15,
   "metadata": {},
   "outputs": [
    {
     "name": "stdout",
     "output_type": "stream",
     "text": [
      "Introduzca total de horas trabajadas: \n",
      "42\n",
      "Introduzca el precio en €/hora: \n",
      "13\n",
      "Salario bruto mensual:  559.0 €\n"
     ]
    }
   ],
   "source": [
    "horastrabajadas = int(input(\"Introduzca total de horas trabajadas: \\n\"))\n",
    "precioxhora = float(input(\"Introduzca el precio en €/hora: \\n\"))\n",
    "\n",
    "def calculo_horas(horas, precio):\n",
    "    jornada = 40\n",
    "    #Calcular salario\n",
    "    if horas > jornada:\n",
    "        salario_bruto = ((jornada*precio)+(horas-jornada)*((precio/2)+precio))        \n",
    "    else:\n",
    "        salario_bruto = horas*precio\n",
    "    return (print(\"Salario bruto mensual: \",salario_bruto, \"€\"))\n",
    "\n",
    "calculo_horas(horastrabajadas, precioxhora)"
   ]
  },
  {
   "cell_type": "markdown",
   "metadata": {},
   "source": [
    "# Ejercicio 11\n",
    "    Programar una función que determine si un número es par o impar. La función debe retornar verdadero o falso haciendo uso de valores booleanos."
   ]
  },
  {
   "cell_type": "code",
   "execution_count": 16,
   "metadata": {},
   "outputs": [],
   "source": [
    "def es_par(n):\n",
    "    if n%2==0:\n",
    "        return True \n",
    "    else:\n",
    "        return False"
   ]
  },
  {
   "cell_type": "code",
   "execution_count": 17,
   "metadata": {},
   "outputs": [
    {
     "data": {
      "text/plain": [
       "False"
      ]
     },
     "execution_count": 17,
     "metadata": {},
     "output_type": "execute_result"
    }
   ],
   "source": [
    "es_par(21)"
   ]
  },
  {
   "cell_type": "markdown",
   "metadata": {},
   "source": [
    "# Ejercicio 12\n",
    "    Programar una función que determine si una letra es vocal o no."
   ]
  },
  {
   "cell_type": "code",
   "execution_count": 18,
   "metadata": {},
   "outputs": [
    {
     "name": "stdout",
     "output_type": "stream",
     "text": [
      "Introduce una letra: \n",
      "E\n",
      "El caracter introducido  E  es vocal\n"
     ]
    }
   ],
   "source": [
    "letra = input(\"Introduce una letra: \\n\")\n",
    "\n",
    "def vocal_control(letra):\n",
    "    vocales = [\"a\",\"e\",\"i\",\"o\",\"u\"]\n",
    "    \n",
    "    if len(letra)>1:\n",
    "        return print(\"Se introdujo más de una letra, intente nuevamente\")\n",
    "    else: \n",
    "        if letra.lower() in vocales:\n",
    "            return print(\"El caracter introducido \", letra, \" es vocal\")\n",
    "        else:\n",
    "            return print(\"El caracter introducido \", letra, \" NO es vocal\")\n",
    "        \n",
    "vocal_control(letra)"
   ]
  },
  {
   "cell_type": "markdown",
   "metadata": {
    "collapsed": true
   },
   "source": [
    "# Ejercicio 13\n",
    "    Programar una función que a partir de un número entero entre 1 y 7 que recibe como argumento retorne el día de la semana que corresponda, y un mensaje de error si el número no está entre 1 y 7."
   ]
  },
  {
   "cell_type": "code",
   "execution_count": 19,
   "metadata": {},
   "outputs": [
    {
     "name": "stdout",
     "output_type": "stream",
     "text": [
      "Introduzca el numero que corresponda al día de la semana: \n",
      "7\n",
      "El día introducido 7 es:  DOMINGO\n"
     ]
    }
   ],
   "source": [
    "d = int(input(\"Introduzca el numero que corresponda al día de la semana: \\n\"))\n",
    "\n",
    "def dia_semana(eldia):\n",
    "    \n",
    "    dias = {1:'LUNES',\n",
    "            2:'MARTES',\n",
    "            3:'MIERCOLES',\n",
    "            4:'JUEVES',\n",
    "            5:'VIERNES',\n",
    "            6:'SABADO',\n",
    "            7:'DOMINGO'          \n",
    "           }\n",
    "    if (eldia<1) | (eldia>7):\n",
    "        return print(\"El día de la semana no es válido, debe estar comprendido entre 1 y 7 \\n\")\n",
    "    elif eldia in dias.keys():\n",
    "        return print(\"El día introducido\", eldia, \"es: \", dias.get(eldia))\n",
    "\n",
    "dia_semana(d)"
   ]
  },
  {
   "cell_type": "markdown",
   "metadata": {},
   "source": [
    "# Ejercicio 14\n",
    "    Función que recibe un número y que muestre la tabla de multiplicar de ese número (hasta 10)"
   ]
  },
  {
   "cell_type": "code",
   "execution_count": 20,
   "metadata": {},
   "outputs": [],
   "source": [
    "def multiplicar(numero):\n",
    "    for i in range(0, 11):\n",
    "        print(str(numero)+\"*\"+str(i)+\" = \"+str(numero*i))"
   ]
  },
  {
   "cell_type": "code",
   "execution_count": 21,
   "metadata": {},
   "outputs": [
    {
     "name": "stdout",
     "output_type": "stream",
     "text": [
      "4*0 = 0\n",
      "4*1 = 4\n",
      "4*2 = 8\n",
      "4*3 = 12\n",
      "4*4 = 16\n",
      "4*5 = 20\n",
      "4*6 = 24\n",
      "4*7 = 28\n",
      "4*8 = 32\n",
      "4*9 = 36\n",
      "4*10 = 40\n"
     ]
    }
   ],
   "source": [
    "multiplicar(4)"
   ]
  },
  {
   "cell_type": "markdown",
   "metadata": {},
   "source": [
    "# Ejercicio 15\n",
    "   Función que suma todos los elementos del 1 al 200 que sean múltiplos de 3 o de 5"
   ]
  },
  {
   "cell_type": "code",
   "execution_count": 22,
   "metadata": {},
   "outputs": [
    {
     "name": "stdout",
     "output_type": "stream",
     "text": [
      "La suma de todos los números múltiplos de 3 o de 5 es:  9368\n"
     ]
    }
   ],
   "source": [
    "def suma_multiplos():\n",
    "    suma = 0\n",
    "    for i in range(1, 201):\n",
    "        if (i%3==0) | (i%5==0):\n",
    "            suma += i\n",
    "    return print(\"La suma de todos los números múltiplos de 3 o de 5 es: \", suma)\n",
    "\n",
    "suma_multiplos()"
   ]
  },
  {
   "cell_type": "markdown",
   "metadata": {},
   "source": [
    "# Ejercicio 16\n",
    "    Función que devuelve la suma de los primeros 50 números que cumplen la condición de ser múltiplo de 3 o de 5"
   ]
  },
  {
   "cell_type": "code",
   "execution_count": 23,
   "metadata": {},
   "outputs": [
    {
     "name": "stdout",
     "output_type": "stream",
     "text": [
      "La suma de los primeros 50 números que son múltiplos de 3 o de 5 es:  2733\n"
     ]
    }
   ],
   "source": [
    "def suma_multiplos_primeroscincuenta():\n",
    "    inicio = 1\n",
    "    contador = 0\n",
    "    suma = 0\n",
    "    while contador < 50:\n",
    "        if (inicio%3==0) | (inicio%5==0):\n",
    "            suma += inicio\n",
    "            contador += 1\n",
    "        inicio += 1\n",
    "    return print(\"La suma de los primeros 50 números que son múltiplos de 3 o de 5 es: \", suma)\n",
    "    \n",
    "suma_multiplos_primeroscincuenta()"
   ]
  }
 ],
 "metadata": {
  "kernelspec": {
   "display_name": "Python 3",
   "language": "python",
   "name": "python3"
  },
  "language_info": {
   "codemirror_mode": {
    "name": "ipython",
    "version": 3
   },
   "file_extension": ".py",
   "mimetype": "text/x-python",
   "name": "python",
   "nbconvert_exporter": "python",
   "pygments_lexer": "ipython3",
   "version": "3.7.0"
  },
  "widgets": {
   "application/vnd.jupyter.widget-state+json": {
    "state": {},
    "version_major": 2,
    "version_minor": 0
   }
  }
 },
 "nbformat": 4,
 "nbformat_minor": 2
}
